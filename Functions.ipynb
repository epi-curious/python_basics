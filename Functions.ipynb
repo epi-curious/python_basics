{
 "cells": [
  {
   "cell_type": "code",
   "execution_count": 1,
   "id": "35188f84-e088-4a69-ab42-ec8d542f2248",
   "metadata": {
    "tags": []
   },
   "outputs": [
    {
     "ename": "IndentationError",
     "evalue": "expected an indented block after function definition on line 2 (1043469461.py, line 7)",
     "output_type": "error",
     "traceback": [
      "\u001b[0;36m  Cell \u001b[0;32mIn[1], line 7\u001b[0;36m\u001b[0m\n\u001b[0;31m    function_name(value_1, value_2)\u001b[0m\n\u001b[0m    ^\u001b[0m\n\u001b[0;31mIndentationError\u001b[0m\u001b[0;31m:\u001b[0m expected an indented block after function definition on line 2\n"
     ]
    }
   ],
   "source": [
    "# Let's define a function.\n",
    "def function_name(argument_1, argument_2):\n",
    "\t# Do whatever we want this function to do,\n",
    "\t#  using argument_1 and argument_2\n",
    "\n",
    "# Use function_name to call the function.\n",
    "function_name(value_1, value_2)"
   ]
  },
  {
   "cell_type": "code",
   "execution_count": 3,
   "id": "7de5a9d4-99c1-4473-9b1d-91c3bd5552c2",
   "metadata": {
    "tags": []
   },
   "outputs": [
    {
     "name": "stdout",
     "output_type": "stream",
     "text": [
      "You are doing good work, Adriana!\n",
      "Thank you very much for your efforts on this project.\n",
      "\n",
      "You are doing good work, Billy!\n",
      "Thank you very much for your efforts on this project.\n",
      "\n",
      "You are doing good work, Caroline!\n",
      "Thank you very much for your efforts on this project.\n"
     ]
    }
   ],
   "source": [
    "print(\"You are doing good work, Adriana!\")\n",
    "print(\"Thank you very much for your efforts on this project.\")\n",
    "\n",
    "print(\"\\nYou are doing good work, Billy!\")\n",
    "print(\"Thank you very much for your efforts on this project.\")\n",
    "\n",
    "print(\"\\nYou are doing good work, Caroline!\")\n",
    "print(\"Thank you very much for your efforts on this project.\")"
   ]
  },
  {
   "cell_type": "code",
   "execution_count": 4,
   "id": "76477463-043a-479e-94af-8f1169a08bf0",
   "metadata": {
    "tags": []
   },
   "outputs": [
    {
     "name": "stdout",
     "output_type": "stream",
     "text": [
      "\n",
      "You are doing good work, Adriana!\n",
      "Thank you very much for your efforts on this project.\n",
      "\n",
      "You are doing good work, Billy!\n",
      "Thank you very much for your efforts on this project.\n",
      "\n",
      "You are doing good work, Caroline!\n",
      "Thank you very much for your efforts on this project.\n"
     ]
    }
   ],
   "source": [
    "def thank_you(name):\n",
    "    # This function prints a two-line personalized thank you message.\n",
    "    print(\"\\nYou are doing good work, %s!\" % name)\n",
    "    print(\"Thank you very much for your efforts on this project.\")\n",
    "    \n",
    "thank_you('Adriana')\n",
    "thank_you('Billy')\n",
    "thank_you('Caroline')"
   ]
  },
  {
   "cell_type": "code",
   "execution_count": 5,
   "id": "76b7f8ad-d8df-4bf2-b41f-50c3ca6e7811",
   "metadata": {
    "tags": []
   },
   "outputs": [],
   "source": [
    "# A function must be defined before you use it in your program. \n",
    "# For example, putting the function at the end of the program would not work."
   ]
  },
  {
   "cell_type": "code",
   "execution_count": 6,
   "id": "7cbd35cf-89c6-4dd1-9ebd-edff65487f14",
   "metadata": {
    "tags": []
   },
   "outputs": [
    {
     "name": "stdout",
     "output_type": "stream",
     "text": [
      "Our students are currently in alphabetical order.\n",
      "Aaron\n",
      "Bernice\n",
      "Cody\n",
      "\n",
      "Our students are now in reverse alphabetical order.\n",
      "Cody\n",
      "Bernice\n",
      "Aaron\n"
     ]
    }
   ],
   "source": [
    "students = ['bernice', 'aaron', 'cody']\n",
    "\n",
    "# Put students in alphabetical order.\n",
    "students.sort()\n",
    "\n",
    "# Display the list in its current order.\n",
    "print(\"Our students are currently in alphabetical order.\")\n",
    "for student in students:\n",
    "    print(student.title())\n",
    "\n",
    "# Put students in reverse alphabetical order.\n",
    "students.sort(reverse=True)\n",
    "\n",
    "# Display the list in its current order.\n",
    "print(\"\\nOur students are now in reverse alphabetical order.\")\n",
    "for student in students:\n",
    "    print(student.title())"
   ]
  },
  {
   "cell_type": "code",
   "execution_count": 7,
   "id": "251a2100-352e-41f1-9e2b-c9de4abb76f7",
   "metadata": {
    "tags": []
   },
   "outputs": [
    {
     "name": "stdout",
     "output_type": "stream",
     "text": [
      "Our students are currently in alphabetical order.\n",
      "Aaron\n",
      "Bernice\n",
      "Cody\n",
      "\n",
      "Our students are now in reverse alphabetical order.\n",
      "Cody\n",
      "Bernice\n",
      "Aaron\n"
     ]
    }
   ],
   "source": [
    "def show_students(students, message):\n",
    "    # Print out a message, and then the list of students\n",
    "    print(message)\n",
    "    for student in students:\n",
    "        print(student.title())\n",
    "\n",
    "students = ['bernice', 'aaron', 'cody']\n",
    "\n",
    "# Put students in alphabetical order.\n",
    "students.sort()\n",
    "show_students(students, \"Our students are currently in alphabetical order.\")\n",
    "\n",
    "#Put students in reverse alphabetical order.\n",
    "students.sort(reverse=True)\n",
    "show_students(students, \"\\nOur students are now in reverse alphabetical order.\")"
   ]
  },
  {
   "cell_type": "code",
   "execution_count": 8,
   "id": "a52b5956-6310-4084-a202-1a959c91bfc8",
   "metadata": {
    "tags": []
   },
   "outputs": [
    {
     "name": "stdout",
     "output_type": "stream",
     "text": [
      "Our students are currently in alphabetical order.\n",
      "- Aaron\n",
      "- Bernice\n",
      "- Cody\n",
      "\n",
      "Our students are now in reverse alphabetical order.\n",
      "- Cody\n",
      "- Bernice\n",
      "- Aaron\n"
     ]
    }
   ],
   "source": [
    "def show_students(students, message):\n",
    "    # Print out a message, and then the list of students\n",
    "    print(message)\n",
    "    for student in students:\n",
    "        print(\"- \" + student.title())\n",
    "\n",
    "students = ['bernice', 'aaron', 'cody']\n",
    "\n",
    "# Put students in alphabetical order.\n",
    "students.sort()\n",
    "show_students(students, \"Our students are currently in alphabetical order.\")\n",
    "\n",
    "#Put students in reverse alphabetical order.\n",
    "students.sort(reverse=True)\n",
    "show_students(students, \"\\nOur students are now in reverse alphabetical order.\")"
   ]
  },
  {
   "cell_type": "code",
   "execution_count": 9,
   "id": "a02db588-a6b0-40d2-ae9c-1958982afac3",
   "metadata": {
    "tags": []
   },
   "outputs": [
    {
     "name": "stdout",
     "output_type": "stream",
     "text": [
      "0 None\n",
      "1 one\n",
      "2 two\n",
      "3 three\n"
     ]
    }
   ],
   "source": [
    "def get_number_word(number):\n",
    "    # Takes in a numerical value, and returns\n",
    "    #  the word corresponding to that number.\n",
    "    if number == 1:\n",
    "        return 'one'\n",
    "    elif number == 2:\n",
    "        return 'two'\n",
    "    elif number == 3:\n",
    "        return 'three'\n",
    "    # ...\n",
    "    \n",
    "# Let's try out our function.\n",
    "for current_number in range(0,4):\n",
    "    number_word = get_number_word(current_number)\n",
    "    print(current_number, number_word)"
   ]
  },
  {
   "cell_type": "code",
   "execution_count": 10,
   "id": "a23daad5-16fb-449f-a028-673f6c34ba89",
   "metadata": {
    "tags": []
   },
   "outputs": [
    {
     "name": "stdout",
     "output_type": "stream",
     "text": [
      "0 zero\n",
      "1 one\n",
      "2 two\n",
      "3 three\n",
      "4 I'm sorry, I don't know that number.\n",
      "5 I'm sorry, I don't know that number.\n"
     ]
    }
   ],
   "source": [
    "def get_number_word(number):\n",
    "    # Takes in a numerical value, and returns\n",
    "    #  the word corresponding to that number.\n",
    "    if number == 0:\n",
    "        return 'zero'\n",
    "    elif number == 1:\n",
    "        return 'one'\n",
    "    elif number == 2:\n",
    "        return 'two'\n",
    "    elif number == 3:\n",
    "        return 'three'\n",
    "    else:\n",
    "        return \"I'm sorry, I don't know that number.\"\n",
    "    \n",
    "# Let's try out our function.\n",
    "for current_number in range(0,6):\n",
    "    number_word = get_number_word(current_number)\n",
    "    print(current_number, number_word)"
   ]
  },
  {
   "cell_type": "code",
   "execution_count": 13,
   "id": "405b4950-f435-481b-9ce4-596a575b8ebb",
   "metadata": {
    "tags": []
   },
   "outputs": [
    {
     "name": "stdout",
     "output_type": "stream",
     "text": [
      "0 zero\n",
      "1 one\n",
      "2 two\n",
      "3 three\n",
      "4 I'm sorry, I don't know that number.\n",
      "5 I'm sorry, I don't know that number.\n"
     ]
    }
   ],
   "source": [
    "def get_number_word(number):\n",
    "    # Takes in a numerical value, and returns\n",
    "    #  the word corresponding to that number.\n",
    "    if number == 0:\n",
    "        return 'zero'\n",
    "    elif number == 1:\n",
    "        return 'one'\n",
    "    elif number == 2:\n",
    "        return 'two'\n",
    "    elif number == 3:\n",
    "        return 'three'\n",
    "    else:\n",
    "        return \"I'm sorry, I don't know that number.\"\n",
    "    \n",
    "    # This line will never execute, because the function has already\n",
    "    #  returned a value and stopped executing.\n",
    "    print(\"This message will never be printed.\")\n",
    "    \n",
    "    # Let's try out our function.\n",
    "for current_number in range(0,6):\n",
    "    number_word = get_number_word(current_number)\n",
    "    print(current_number, number_word)"
   ]
  },
  {
   "cell_type": "code",
   "execution_count": 29,
   "id": "de98fc4a-de0e-4eaa-b624-f639b53d03c4",
   "metadata": {
    "tags": []
   },
   "outputs": [
    {
     "name": "stdout",
     "output_type": "stream",
     "text": [
      "\n",
      "Salutations, Matt!\n",
      "I hope that you will enjoy your stay wiht us.\n",
      "However, if anything is not to your liking, please let us know, Matt.\n",
      "None\n",
      "\n",
      "Salutations, Sean!\n",
      "I hope that you will enjoy your stay wiht us.\n",
      "However, if anything is not to your liking, please let us know, Sean.\n",
      "None\n",
      "\n",
      "Salutations, Sam!\n",
      "I hope that you will enjoy your stay wiht us.\n",
      "However, if anything is not to your liking, please let us know, Sam.\n",
      "None\n",
      "\n",
      "Salutations, Latoya!\n",
      "I hope that you will enjoy your stay wiht us.\n",
      "However, if anything is not to your liking, please let us know, Latoya.\n",
      "None\n"
     ]
    }
   ],
   "source": [
    "persons = ['Matt', 'Sean', 'Sam', 'Latoya']\n",
    "\n",
    "def salutations(person):\n",
    "    # write a three line personalized salutation.\n",
    "    print(\"\\nSalutations, %s!\" % person)\n",
    "    print(\"I hope that you will enjoy your stay wiht us.\")\n",
    "    print(\"However, if anything is not to your liking, please let us know, %s.\" % person)\n",
    "    \n",
    "\n",
    "\n",
    "for person in persons:\n",
    "    print(salutations(person))\n"
   ]
  },
  {
   "cell_type": "code",
   "execution_count": 3,
   "id": "785e86d6-eae4-4c4e-82b5-af6a8528718c",
   "metadata": {
    "tags": []
   },
   "outputs": [
    {
     "ename": "TypeError",
     "evalue": "can only concatenate list (not \"str\") to list",
     "output_type": "error",
     "traceback": [
      "\u001b[0;31m---------------------------------------------------------------------------\u001b[0m",
      "\u001b[0;31mTypeError\u001b[0m                                 Traceback (most recent call last)",
      "Cell \u001b[0;32mIn[3], line 3\u001b[0m\n\u001b[1;32m      1\u001b[0m first_name \u001b[38;5;241m=\u001b[39m [\u001b[38;5;124m'\u001b[39m\u001b[38;5;124msean\u001b[39m\u001b[38;5;124m'\u001b[39m, \u001b[38;5;124m'\u001b[39m\u001b[38;5;124mmatt\u001b[39m\u001b[38;5;124m'\u001b[39m, \u001b[38;5;124m'\u001b[39m\u001b[38;5;124msam\u001b[39m\u001b[38;5;124m'\u001b[39m, \u001b[38;5;124m'\u001b[39m\u001b[38;5;124mlatoya\u001b[39m\u001b[38;5;124m'\u001b[39m]\n\u001b[1;32m      2\u001b[0m last_name \u001b[38;5;241m=\u001b[39m [\u001b[38;5;124m'\u001b[39m\u001b[38;5;124mmanning\u001b[39m\u001b[38;5;124m'\u001b[39m, \u001b[38;5;124m'\u001b[39m\u001b[38;5;124mkenny\u001b[39m\u001b[38;5;124m'\u001b[39m, \u001b[38;5;124m'\u001b[39m\u001b[38;5;124mofidani\u001b[39m\u001b[38;5;124m'\u001b[39m, \u001b[38;5;124m'\u001b[39m\u001b[38;5;124mgoncalves\u001b[39m\u001b[38;5;124m'\u001b[39m]\n\u001b[0;32m----> 3\u001b[0m full_name \u001b[38;5;241m=\u001b[39m first_name \u001b[38;5;241m+\u001b[39m \u001b[38;5;124m'\u001b[39m\u001b[38;5;124m \u001b[39m\u001b[38;5;124m'\u001b[39m \u001b[38;5;241m+\u001b[39m last_name\n\u001b[1;32m      5\u001b[0m \u001b[38;5;28mprint\u001b[39m(full_name\u001b[38;5;241m.\u001b[39mupper())\n",
      "\u001b[0;31mTypeError\u001b[0m: can only concatenate list (not \"str\") to list"
     ]
    }
   ],
   "source": [
    "first_name = ['sean', 'matt', 'sam', 'latoya']\n",
    "last_name = ['manning', 'kenny', 'ofidani', 'goncalves']\n",
    "full_name = first_name + ' ' + last_name\n",
    "\n",
    "print(full_name.upper())"
   ]
  },
  {
   "cell_type": "code",
   "execution_count": 31,
   "id": "f5e95444-5227-485f-9f91-7f5f25c67bb4",
   "metadata": {
    "tags": []
   },
   "outputs": [
    {
     "name": "stdout",
     "output_type": "stream",
     "text": [
      "['sean', 'matt', 'sam', 'latoya', 'manning', 'kenny', 'ofidani', 'goncalves']\n"
     ]
    }
   ],
   "source": [
    "print(first_name + last_name)"
   ]
  },
  {
   "cell_type": "code",
   "execution_count": 5,
   "id": "c050c7aa-0a86-42ff-bc2e-ff634a8fd711",
   "metadata": {},
   "outputs": [
    {
     "data": {
      "text/html": [
       "<div>\n",
       "<style scoped>\n",
       "    .dataframe tbody tr th:only-of-type {\n",
       "        vertical-align: middle;\n",
       "    }\n",
       "\n",
       "    .dataframe tbody tr th {\n",
       "        vertical-align: top;\n",
       "    }\n",
       "\n",
       "    .dataframe thead th {\n",
       "        text-align: right;\n",
       "    }\n",
       "</style>\n",
       "<table border=\"1\" class=\"dataframe\">\n",
       "  <thead>\n",
       "    <tr style=\"text-align: right;\">\n",
       "      <th></th>\n",
       "      <th>team</th>\n",
       "      <th>first</th>\n",
       "      <th>last</th>\n",
       "      <th>points</th>\n",
       "      <th>full_name</th>\n",
       "    </tr>\n",
       "  </thead>\n",
       "  <tbody>\n",
       "    <tr>\n",
       "      <th>0</th>\n",
       "      <td>Mavs</td>\n",
       "      <td>Dirk</td>\n",
       "      <td>Nowitzki</td>\n",
       "      <td>26</td>\n",
       "      <td>Dirk Nowitzki</td>\n",
       "    </tr>\n",
       "    <tr>\n",
       "      <th>1</th>\n",
       "      <td>Lakers</td>\n",
       "      <td>Kobe</td>\n",
       "      <td>Bryant</td>\n",
       "      <td>31</td>\n",
       "      <td>Kobe Bryant</td>\n",
       "    </tr>\n",
       "    <tr>\n",
       "      <th>2</th>\n",
       "      <td>Spurs</td>\n",
       "      <td>Tim</td>\n",
       "      <td>Duncan</td>\n",
       "      <td>22</td>\n",
       "      <td>Tim Duncan</td>\n",
       "    </tr>\n",
       "    <tr>\n",
       "      <th>3</th>\n",
       "      <td>Cavs</td>\n",
       "      <td>Lebron</td>\n",
       "      <td>James</td>\n",
       "      <td>29</td>\n",
       "      <td>Lebron James</td>\n",
       "    </tr>\n",
       "  </tbody>\n",
       "</table>\n",
       "</div>"
      ],
      "text/plain": [
       "     team   first      last  points      full_name\n",
       "0    Mavs    Dirk  Nowitzki      26  Dirk Nowitzki\n",
       "1  Lakers    Kobe    Bryant      31    Kobe Bryant\n",
       "2   Spurs     Tim    Duncan      22     Tim Duncan\n",
       "3    Cavs  Lebron     James      29   Lebron James"
      ]
     },
     "execution_count": 5,
     "metadata": {},
     "output_type": "execute_result"
    }
   ],
   "source": [
    "import pandas as pd\n",
    "\n",
    "#create dataFrame\n",
    "df = pd.DataFrame({'team': ['Mavs', 'Lakers', 'Spurs', 'Cavs'],\n",
    "                   'first': ['Dirk', 'Kobe', 'Tim', 'Lebron'],\n",
    "                   'last': ['Nowitzki', 'Bryant', 'Duncan', 'James'],\n",
    "                   'points': [26, 31, 22, 29]})\n",
    "\n",
    "#combine first and last name column into new column, with space in between \n",
    "df['full_name'] = df['first'] + ' ' + df['last']\n",
    "\n",
    "#view resulting dataFrame\n",
    "df"
   ]
  },
  {
   "cell_type": "code",
   "execution_count": 7,
   "id": "601b211c-d756-48e2-9e9b-3842a0e80bfb",
   "metadata": {
    "tags": []
   },
   "outputs": [],
   "source": [
    "#create two arrays\n",
    "x = [3, 4, 4, 5, 7, 8, 10, 12, 13, 15]\n",
    "y = [2, 4, 4, 5, 4, 7, 8, 19, 14, 10]"
   ]
  },
  {
   "cell_type": "code",
   "execution_count": 8,
   "id": "853f7377-1a71-4773-a020-9b1734521789",
   "metadata": {
    "tags": []
   },
   "outputs": [
    {
     "name": "stderr",
     "output_type": "stream",
     "text": [
      "/var/folders/qm/pp79hx7n3tj5l5qv40126cqc0000gn/T/ipykernel_85098/4076558070.py:1: DeprecationWarning: Please use `pearsonr` from the `scipy.stats` namespace, the `scipy.stats.stats` namespace is deprecated.\n",
      "  from scipy.stats.stats import pearsonr\n"
     ]
    },
    {
     "data": {
      "text/plain": [
       "PearsonRResult(statistic=0.8076177030748631, pvalue=0.0047172558281320795)"
      ]
     },
     "execution_count": 8,
     "metadata": {},
     "output_type": "execute_result"
    }
   ],
   "source": [
    "from scipy.stats.stats import pearsonr\n",
    "\n",
    "#calculation correlation coefficient and p-value between x and y\n",
    "pearsonr(x, y)"
   ]
  },
  {
   "cell_type": "code",
   "execution_count": 10,
   "id": "6e68b890-a62e-4366-87e9-c5b122ae36cd",
   "metadata": {
    "tags": []
   },
   "outputs": [
    {
     "name": "stdout",
     "output_type": "stream",
     "text": [
      "0.81\n"
     ]
    }
   ],
   "source": [
    "#extract correlation coefficient (rounded to 4 decimal places)\n",
    "r = round(pearsonr(x, y)[0], 2)\n",
    "\n",
    "print(r)"
   ]
  },
  {
   "cell_type": "code",
   "execution_count": 12,
   "id": "beec2a7d-d0c8-4c9f-a404-6f4c1a1580be",
   "metadata": {
    "tags": []
   },
   "outputs": [
    {
     "name": "stdout",
     "output_type": "stream",
     "text": [
      "0.0047\n"
     ]
    }
   ],
   "source": [
    "#extract p-value (rounded to 4 decimal places) \n",
    "p = round(pearsonr(x, y)[1], 4)\n",
    "\n",
    "print(p) "
   ]
  },
  {
   "cell_type": "code",
   "execution_count": 13,
   "id": "0aed6c7f-eb0c-45d2-89ef-80c3afae58a4",
   "metadata": {
    "tags": []
   },
   "outputs": [
    {
     "data": {
      "text/plain": [
       "array([ 1.76405235,  0.40015721,  0.97873798,  2.2408932 ,  1.86755799,\n",
       "       -0.97727788,  0.95008842, -0.15135721, -0.10321885,  0.4105985 ])"
      ]
     },
     "execution_count": 13,
     "metadata": {},
     "output_type": "execute_result"
    }
   ],
   "source": [
    "import numpy as np\n",
    "\n",
    "#create dataset with 100 values that follow a normal distribution\n",
    "np.random.seed(0)\n",
    "data = np.random.normal(0,1, 1000)\n",
    "\n",
    "#view first 10 values\n",
    "data[:10] "
   ]
  },
  {
   "cell_type": "code",
   "execution_count": 14,
   "id": "994d3fc7-3580-444f-850f-c6b114148d75",
   "metadata": {
    "tags": []
   },
   "outputs": [
    {
     "data": {
      "image/png": "[encoded data removed]",
      "text/plain": [
       "<Figure size 640x480 with 1 Axes>"
      ]
     },
     "metadata": {},
     "output_type": "display_data"
    }
   ],
   "source": [
    "import statsmodels.api as sm\n",
    "import matplotlib.pyplot as plt\n",
    "\n",
    "#create Q-Q plot with 45-degree line added to plot\n",
    "fig = sm.qqplot(data, line='45')\n",
    "plt.show()"
   ]
  },
  {
   "cell_type": "code",
   "execution_count": null,
   "id": "221c1598-c4b0-4b09-ba3d-8bfde007aabf",
   "metadata": {},
   "outputs": [],
   "source": []
  }
 ],
 "metadata": {
  "kernelspec": {
   "display_name": "Python 3 (ipykernel)",
   "language": "python",
   "name": "python3"
  },
  "language_info": {
   "codemirror_mode": {
    "name": "ipython",
    "version": 3
   },
   "file_extension": ".py",
   "mimetype": "text/x-python",
   "name": "python",
   "nbconvert_exporter": "python",
   "pygments_lexer": "ipython3",
   "version": "3.11.5"
  }
 },
 "nbformat": 4,
 "nbformat_minor": 5
}
