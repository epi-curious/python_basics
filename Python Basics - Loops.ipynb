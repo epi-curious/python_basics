{
 "cells": [
  {
   "cell_type": "code",
   "execution_count": 1,
   "id": "1457e656-af8f-425a-b4b2-4253c1050a3f",
   "metadata": {
    "tags": []
   },
   "outputs": [
    {
     "data": {
      "text/plain": [
       "range(0, 3)"
      ]
     },
     "execution_count": 1,
     "metadata": {},
     "output_type": "execute_result"
    }
   ],
   "source": [
    "# Use the range\n",
    "\n",
    "range(3)"
   ]
  },
  {
   "cell_type": "code",
   "execution_count": 2,
   "id": "4b18d539-a955-4fdf-8226-cec4e98789d1",
   "metadata": {
    "tags": []
   },
   "outputs": [
    {
     "name": "stdout",
     "output_type": "stream",
     "text": [
      "1982\n",
      "1980\n",
      "1973\n"
     ]
    }
   ],
   "source": [
    "# For loop example\n",
    "\n",
    "dates = [1982,1980,1973]\n",
    "N = len(dates)\n",
    "\n",
    "for i in range(N):\n",
    "    print(dates[i])     "
   ]
  },
  {
   "cell_type": "code",
   "execution_count": 12,
   "id": "e161b2ac-0e22-4655-9591-1d21400fbf97",
   "metadata": {
    "tags": []
   },
   "outputs": [
    {
     "name": "stdout",
     "output_type": "stream",
     "text": [
      "0\n",
      "1\n",
      "2\n",
      "3\n",
      "4\n",
      "5\n",
      "6\n",
      "7\n"
     ]
    }
   ],
   "source": [
    "# Example of for loop\n",
    "\n",
    "for i in range(0, 8):\n",
    "    print(i)"
   ]
  },
  {
   "cell_type": "code",
   "execution_count": 4,
   "id": "bb6c3014-fe62-4b4a-a67a-faf3eff1dfdd",
   "metadata": {
    "tags": []
   },
   "outputs": [
    {
     "name": "stdout",
     "output_type": "stream",
     "text": [
      "1982\n",
      "1980\n",
      "1973\n"
     ]
    }
   ],
   "source": [
    "# Exmaple of for loop, loop through list\n",
    "\n",
    "for year in dates:  \n",
    "    print(year)   "
   ]
  },
  {
   "cell_type": "code",
   "execution_count": 5,
   "id": "698de36a-ed71-4d28-9213-943b1ec27591",
   "metadata": {
    "tags": []
   },
   "outputs": [
    {
     "name": "stdout",
     "output_type": "stream",
     "text": [
      "Before square  0 is red\n",
      "After square  0 is white\n",
      "Before square  1 is yellow\n",
      "After square  1 is white\n",
      "Before square  2 is green\n",
      "After square  2 is white\n",
      "Before square  3 is purple\n",
      "After square  3 is white\n",
      "Before square  4 is blue\n",
      "After square  4 is white\n"
     ]
    }
   ],
   "source": [
    "# Use for loop to change the elements in list\n",
    "\n",
    "squares = ['red', 'yellow', 'green', 'purple', 'blue']\n",
    "\n",
    "for i in range(0, 5):\n",
    "    print(\"Before square \", i, 'is',  squares[i])\n",
    "    squares[i] = 'white'\n",
    "    print(\"After square \", i, 'is',  squares[i])"
   ]
  },
  {
   "cell_type": "code",
   "execution_count": 6,
   "id": "1ed8cfe7-be3b-46f0-98fb-248b758bd4fa",
   "metadata": {
    "tags": []
   },
   "outputs": [
    {
     "name": "stdout",
     "output_type": "stream",
     "text": [
      "0 red\n",
      "1 yellow\n",
      "2 green\n",
      "3 purple\n",
      "4 blue\n"
     ]
    }
   ],
   "source": [
    "# Loop through the list and iterate on both index and element value\n",
    "\n",
    "squares=['red', 'yellow', 'green', 'purple', 'blue']\n",
    "\n",
    "for i, square in enumerate(squares):\n",
    "    print(i, square)"
   ]
  },
  {
   "cell_type": "code",
   "execution_count": 7,
   "id": "fee03301-8106-45fa-bfa5-057c942027fc",
   "metadata": {
    "tags": []
   },
   "outputs": [
    {
     "name": "stdout",
     "output_type": "stream",
     "text": [
      "1\n",
      "2\n",
      "3\n",
      "4\n",
      "5\n"
     ]
    }
   ],
   "source": [
    "count = 1\n",
    "while count <= 5:\n",
    "    print(count)\n",
    "    count += 1"
   ]
  },
  {
   "cell_type": "code",
   "execution_count": 11,
   "id": "8b48da44-582b-40fb-b75d-de1385b2ff8e",
   "metadata": {
    "tags": []
   },
   "outputs": [
    {
     "name": "stdout",
     "output_type": "stream",
     "text": [
      "1982\n",
      "1980\n",
      "It took  2 repetitions to get out of loop.\n"
     ]
    }
   ],
   "source": [
    "# While Loop Example\n",
    "\n",
    "dates = [1982, 1980, 1973, 2000]\n",
    "\n",
    "i = 0\n",
    "year = dates[0]\n",
    "\n",
    "while(year != 1973):    \n",
    "    print(year)\n",
    "    i = i + 1\n",
    "    year = dates[i]\n",
    "    \n",
    "\n",
    "print(\"It took \", i ,\"repetitions to get out of loop.\")"
   ]
  },
  {
   "cell_type": "code",
   "execution_count": 15,
   "id": "e43cf3e1-2792-4a56-9969-62461b26a394",
   "metadata": {},
   "outputs": [
    {
     "name": "stdout",
     "output_type": "stream",
     "text": [
      "-5\n",
      "-4\n",
      "-3\n",
      "-2\n",
      "-1\n",
      "0\n",
      "1\n",
      "2\n",
      "3\n",
      "4\n",
      "5\n"
     ]
    }
   ],
   "source": [
    "for i in range (-5,6):\n",
    "    print (i)"
   ]
  },
  {
   "cell_type": "code",
   "execution_count": 17,
   "id": "7771c4fb-9175-4357-9d52-e76b9d30e66f",
   "metadata": {
    "tags": []
   },
   "outputs": [
    {
     "name": "stdout",
     "output_type": "stream",
     "text": [
      "rock\n",
      "R&B\n",
      "Soundtrack\n",
      "R&B\n",
      "soul\n",
      "pop\n"
     ]
    }
   ],
   "source": [
    "Genres=[ 'rock', 'R&B', 'Soundtrack', 'R&B', 'soul', 'pop']\n",
    "for genre in Genres:\n",
    "    print (genre)"
   ]
  },
  {
   "cell_type": "code",
   "execution_count": 18,
   "id": "ded7b1b0-e247-4cfe-b742-4cd5428192ad",
   "metadata": {
    "tags": []
   },
   "outputs": [
    {
     "name": "stdout",
     "output_type": "stream",
     "text": [
      "red\n",
      "yellow\n",
      "green\n",
      "purple\n",
      "blue\n"
     ]
    }
   ],
   "source": [
    "squares=['red', 'yellow', 'green', 'purple', 'blue']\n",
    "for square in squares:\n",
    "    print (square)"
   ]
  },
  {
   "cell_type": "code",
   "execution_count": 21,
   "id": "e7f10dc9-06cd-4859-bb48-23bb1b88215d",
   "metadata": {
    "tags": []
   },
   "outputs": [
    {
     "name": "stdout",
     "output_type": "stream",
     "text": [
      "5\n"
     ]
    }
   ],
   "source": [
    "PlayListRatings = [10, 9.5, 10, 8, 7.5, 5, 10, 10]\n",
    "for playlist in PlayListRatings:\n",
    "    if playlist < 6:\n",
    "        print(playlist)"
   ]
  },
  {
   "cell_type": "code",
   "execution_count": 23,
   "id": "9ee5f93f-b7e3-4795-8b9d-63d48f76a331",
   "metadata": {
    "tags": []
   },
   "outputs": [
    {
     "name": "stdout",
     "output_type": "stream",
     "text": [
      "['orange', 'orange']\n"
     ]
    }
   ],
   "source": [
    "squares = ['orange', 'orange', 'purple', 'blue ', 'orange']\n",
    "new_squares = []\n",
    "i = 0\n",
    "while(i < len(squares) and squares[i] == 'orange'):\n",
    "    new_squares.append(squares[i])\n",
    "    i = i + 1\n",
    "print (new_squares)"
   ]
  },
  {
   "cell_type": "code",
   "execution_count": 29,
   "id": "871630f5-8203-4532-984e-f85faef151a9",
   "metadata": {
    "tags": []
   },
   "outputs": [
    {
     "name": "stdout",
     "output_type": "stream",
     "text": [
      "Multiplication table of 6:\n",
      "6 * 0 = 0\n",
      "6 * 1 = 6\n",
      "6 * 2 = 12\n",
      "6 * 3 = 18\n",
      "6 * 4 = 24\n",
      "6 * 5 = 30\n",
      "6 * 6 = 36\n",
      "6 * 7 = 42\n",
      "6 * 8 = 48\n",
      "6 * 9 = 54\n",
      "Multiplication table of 7:\n",
      "7 * 0 = 0\n",
      "7 * 1 = 7\n",
      "7 * 2 = 14\n",
      "7 * 3 = 21\n",
      "7 * 4 = 28\n",
      "7 * 5 = 35\n",
      "7 * 6 = 42\n",
      "7 * 7 = 49\n",
      "7 * 8 = 56\n",
      "7 * 9 = 63\n"
     ]
    }
   ],
   "source": [
    "print(\"Multiplication table of 6:\")\n",
    "for i in range (10):\n",
    "    print(\"6 *\",i,\"=\",6*i)\n",
    "print(\"Multiplication table of 7:\")\n",
    "for i in range (10):\n",
    "    print(\"7 *\",i,\"=\",7*i)"
   ]
  },
  {
   "cell_type": "code",
   "execution_count": 35,
   "id": "d6989169-54fe-461c-b244-713370454e04",
   "metadata": {
    "tags": []
   },
   "outputs": [
    {
     "name": "stdout",
     "output_type": "stream",
     "text": [
      "['giraffe', 'gorilla', 'parrots']\n"
     ]
    }
   ],
   "source": [
    "Animals = [\"lion\", \"giraffe\", \"gorilla\", \"parrots\", \"crocodile\",\"deer\", \"swan\"]\n",
    "New = []\n",
    "i=0\n",
    "while i<len(Animals):\n",
    "    j=Animals[i]\n",
    "    if(len(j)==7):\n",
    "        New.append(j)\n",
    "    i=i+1\n",
    "print(New)"
   ]
  },
  {
   "cell_type": "code",
   "execution_count": null,
   "id": "5fb48c41-3006-4bf0-a8eb-c7b03b1cc481",
   "metadata": {},
   "outputs": [],
   "source": []
  }
 ],
 "metadata": {
  "kernelspec": {
   "display_name": "Python 3 (ipykernel)",
   "language": "python",
   "name": "python3"
  },
  "language_info": {
   "codemirror_mode": {
    "name": "ipython",
    "version": 3
   },
   "file_extension": ".py",
   "mimetype": "text/x-python",
   "name": "python",
   "nbconvert_exporter": "python",
   "pygments_lexer": "ipython3",
   "version": "3.11.5"
  }
 },
 "nbformat": 4,
 "nbformat_minor": 5
}
