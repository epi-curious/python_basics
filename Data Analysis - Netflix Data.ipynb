{
 "cells": [
  {
   "cell_type": "code",
   "execution_count": 13,
   "id": "a424206c-9464-411e-ba18-629692796054",
   "metadata": {
    "tags": []
   },
   "outputs": [
    {
     "ename": "ImportError",
     "evalue": "Unable to import required dependencies:\nnumpy: \n\nIMPORTANT: PLEASE READ THIS FOR ADVICE ON HOW TO SOLVE THIS ISSUE!\n\nImporting the numpy C-extensions failed. This error can happen for\nmany reasons, often due to issues with your setup or how NumPy was\ninstalled.\n\nWe have compiled some common reasons and troubleshooting tips at:\n\n    https://numpy.org/devdocs/user/troubleshooting-importerror.html\n\nPlease note and check the following:\n\n  * The Python version is: Python3.11 from \"/Users/mckenny/anaconda3/bin/python\"\n  * The NumPy version is: \"1.24.3\"\n\nand make sure that they are the versions you expect.\nPlease carefully study the documentation linked above for further help.\n\nOriginal error was: dlopen(/Users/mckenny/anaconda3/lib/python3.11/site-packages/numpy/core/_multiarray_umath.cpython-311-darwin.so, 0x0002): Library not loaded: '@rpath/libopenblas.0.dylib'\n  Referenced from: '/Users/mckenny/anaconda3/lib/python3.11/site-packages/numpy/core/_multiarray_umath.cpython-311-darwin.so'\n  Reason: tried: '/Users/mckenny/anaconda3/lib/python3.11/site-packages/numpy/core/../../../../libopenblas.0.dylib' (no such file), '/Users/mckenny/anaconda3/lib/python3.11/site-packages/numpy/core/../../../../libopenblas.0.dylib' (no such file), '/Users/mckenny/anaconda3/bin/../lib/libopenblas.0.dylib' (no such file), '/Users/mckenny/anaconda3/bin/../lib/libopenblas.0.dylib' (no such file), '/usr/local/lib/libopenblas.0.dylib' (no such file), '/usr/lib/libopenblas.0.dylib' (no such file)\n",
     "output_type": "error",
     "traceback": [
      "\u001b[0;31m---------------------------------------------------------------------------\u001b[0m",
      "\u001b[0;31mImportError\u001b[0m                               Traceback (most recent call last)",
      "Cell \u001b[0;32mIn[13], line 2\u001b[0m\n\u001b[1;32m      1\u001b[0m \u001b[38;5;66;03m# importing the module\u001b[39;00m\n\u001b[0;32m----> 2\u001b[0m \u001b[38;5;28;01mimport\u001b[39;00m \u001b[38;5;21;01mpandas\u001b[39;00m \u001b[38;5;28;01mas\u001b[39;00m \u001b[38;5;21;01mpd\u001b[39;00m\n\u001b[1;32m      4\u001b[0m \u001b[38;5;66;03m# creating the DataFrame\u001b[39;00m\n\u001b[1;32m      5\u001b[0m marks_data \u001b[38;5;241m=\u001b[39m pd\u001b[38;5;241m.\u001b[39mDataFrame({\u001b[38;5;124m'\u001b[39m\u001b[38;5;124mID\u001b[39m\u001b[38;5;124m'\u001b[39m: {\u001b[38;5;241m0\u001b[39m: \u001b[38;5;241m23\u001b[39m, \u001b[38;5;241m1\u001b[39m: \u001b[38;5;241m43\u001b[39m, \u001b[38;5;241m2\u001b[39m: \u001b[38;5;241m12\u001b[39m,\n\u001b[1;32m      6\u001b[0m \t\t\t\t\t\t\t\t\u001b[38;5;241m3\u001b[39m: \u001b[38;5;241m13\u001b[39m, \u001b[38;5;241m4\u001b[39m: \u001b[38;5;241m67\u001b[39m, \u001b[38;5;241m5\u001b[39m: \u001b[38;5;241m89\u001b[39m,\n\u001b[1;32m      7\u001b[0m \t\t\t\t\t\t\t\t\u001b[38;5;241m6\u001b[39m: \u001b[38;5;241m90\u001b[39m, \u001b[38;5;241m7\u001b[39m: \u001b[38;5;241m56\u001b[39m, \u001b[38;5;241m8\u001b[39m: \u001b[38;5;241m34\u001b[39m},\n\u001b[0;32m   (...)\u001b[0m\n\u001b[1;32m     17\u001b[0m \t\t\t\t\t\t\t\t\t\u001b[38;5;241m4\u001b[39m: \u001b[38;5;124m'\u001b[39m\u001b[38;5;124mE\u001b[39m\u001b[38;5;124m'\u001b[39m, \u001b[38;5;241m5\u001b[39m: \u001b[38;5;124m'\u001b[39m\u001b[38;5;124mC\u001b[39m\u001b[38;5;124m'\u001b[39m, \u001b[38;5;241m6\u001b[39m: \u001b[38;5;124m'\u001b[39m\u001b[38;5;124mA\u001b[39m\u001b[38;5;124m'\u001b[39m, \u001b[38;5;241m7\u001b[39m: \u001b[38;5;124m'\u001b[39m\u001b[38;5;124mB\u001b[39m\u001b[38;5;124m'\u001b[39m,\n\u001b[1;32m     18\u001b[0m \t\t\t\t\t\t\t\t\t\u001b[38;5;241m8\u001b[39m: \u001b[38;5;124m'\u001b[39m\u001b[38;5;124mB\u001b[39m\u001b[38;5;124m'\u001b[39m}})\n",
      "File \u001b[0;32m~/anaconda3/lib/python3.11/site-packages/pandas/__init__.py:16\u001b[0m\n\u001b[1;32m     13\u001b[0m         _missing_dependencies\u001b[38;5;241m.\u001b[39mappend(\u001b[38;5;124mf\u001b[39m\u001b[38;5;124m\"\u001b[39m\u001b[38;5;132;01m{\u001b[39;00m_dependency\u001b[38;5;132;01m}\u001b[39;00m\u001b[38;5;124m: \u001b[39m\u001b[38;5;132;01m{\u001b[39;00m_e\u001b[38;5;132;01m}\u001b[39;00m\u001b[38;5;124m\"\u001b[39m)\n\u001b[1;32m     15\u001b[0m \u001b[38;5;28;01mif\u001b[39;00m _missing_dependencies:  \u001b[38;5;66;03m# pragma: no cover\u001b[39;00m\n\u001b[0;32m---> 16\u001b[0m     \u001b[38;5;28;01mraise\u001b[39;00m \u001b[38;5;167;01mImportError\u001b[39;00m(\n\u001b[1;32m     17\u001b[0m         \u001b[38;5;124m\"\u001b[39m\u001b[38;5;124mUnable to import required dependencies:\u001b[39m\u001b[38;5;130;01m\\n\u001b[39;00m\u001b[38;5;124m\"\u001b[39m \u001b[38;5;241m+\u001b[39m \u001b[38;5;124m\"\u001b[39m\u001b[38;5;130;01m\\n\u001b[39;00m\u001b[38;5;124m\"\u001b[39m\u001b[38;5;241m.\u001b[39mjoin(_missing_dependencies)\n\u001b[1;32m     18\u001b[0m     )\n\u001b[1;32m     19\u001b[0m \u001b[38;5;28;01mdel\u001b[39;00m _hard_dependencies, _dependency, _missing_dependencies\n\u001b[1;32m     21\u001b[0m \u001b[38;5;66;03m# numpy compat\u001b[39;00m\n",
      "\u001b[0;31mImportError\u001b[0m: Unable to import required dependencies:\nnumpy: \n\nIMPORTANT: PLEASE READ THIS FOR ADVICE ON HOW TO SOLVE THIS ISSUE!\n\nImporting the numpy C-extensions failed. This error can happen for\nmany reasons, often due to issues with your setup or how NumPy was\ninstalled.\n\nWe have compiled some common reasons and troubleshooting tips at:\n\n    https://numpy.org/devdocs/user/troubleshooting-importerror.html\n\nPlease note and check the following:\n\n  * The Python version is: Python3.11 from \"/Users/mckenny/anaconda3/bin/python\"\n  * The NumPy version is: \"1.24.3\"\n\nand make sure that they are the versions you expect.\nPlease carefully study the documentation linked above for further help.\n\nOriginal error was: dlopen(/Users/mckenny/anaconda3/lib/python3.11/site-packages/numpy/core/_multiarray_umath.cpython-311-darwin.so, 0x0002): Library not loaded: '@rpath/libopenblas.0.dylib'\n  Referenced from: '/Users/mckenny/anaconda3/lib/python3.11/site-packages/numpy/core/_multiarray_umath.cpython-311-darwin.so'\n  Reason: tried: '/Users/mckenny/anaconda3/lib/python3.11/site-packages/numpy/core/../../../../libopenblas.0.dylib' (no such file), '/Users/mckenny/anaconda3/lib/python3.11/site-packages/numpy/core/../../../../libopenblas.0.dylib' (no such file), '/Users/mckenny/anaconda3/bin/../lib/libopenblas.0.dylib' (no such file), '/Users/mckenny/anaconda3/bin/../lib/libopenblas.0.dylib' (no such file), '/usr/local/lib/libopenblas.0.dylib' (no such file), '/usr/lib/libopenblas.0.dylib' (no such file)\n"
     ]
    }
   ],
   "source": [
    "# importing the module\n",
    "import pandas as pd\n",
    "\n",
    "# creating the DataFrame\n",
    "marks_data = pd.DataFrame({'ID': {0: 23, 1: 43, 2: 12,\n",
    "\t\t\t\t\t\t\t\t3: 13, 4: 67, 5: 89,\n",
    "\t\t\t\t\t\t\t\t6: 90, 7: 56, 8: 34},\n",
    "\t\t\t\t\t\t'Name': {0: 'Ram', 1: 'Deep',\n",
    "\t\t\t\t\t\t\t\t\t2: 'Yash', 3: 'Aman',\n",
    "\t\t\t\t\t\t\t\t\t4: 'Arjun', 5: 'Aditya',\n",
    "\t\t\t\t\t\t\t\t\t6: 'Divya', 7: 'Chalsea',\n",
    "\t\t\t\t\t\t\t\t\t8: 'Akash'},\n",
    "\t\t\t\t\t\t'Marks': {0: 89, 1: 97, 2: 45, 3: 78,\n",
    "\t\t\t\t\t\t\t\t\t4: 56, 5: 76, 6: 100, 7: 87,\n",
    "\t\t\t\t\t\t\t\t\t8: 81},\n",
    "\t\t\t\t\t\t'Grade': {0: 'B', 1: 'A', 2: 'F', 3: 'C',\n",
    "\t\t\t\t\t\t\t\t\t4: 'E', 5: 'C', 6: 'A', 7: 'B',\n",
    "\t\t\t\t\t\t\t\t\t8: 'B'}})\n",
    "\n",
    "# determining the name of the file\n",
    "file_name = 'MarksData.xlsx'\n",
    "\n",
    "# saving the excel\n",
    "marks_data.to_excel(file_name)\n",
    "print('DataFrame is written to Excel File successfully.')\n",
    "\n"
   ]
  },
  {
   "cell_type": "code",
   "execution_count": null,
   "id": "5c5ac43a-d0cf-4a9e-922a-8a010bb720aa",
   "metadata": {},
   "outputs": [],
   "source": [
    "import pandas as pd\n",
    "import plotly.express as px\n",
    "df = pd.read_csv('netflix_titles.csv')\n",
    "print(df.shape)"
   ]
  }
 ],
 "metadata": {
  "kernelspec": {
   "display_name": "Python 3 (ipykernel)",
   "language": "python",
   "name": "python3"
  },
  "language_info": {
   "codemirror_mode": {
    "name": "ipython",
    "version": 3
   },
   "file_extension": ".py",
   "mimetype": "text/x-python",
   "name": "python",
   "nbconvert_exporter": "python",
   "pygments_lexer": "ipython3",
   "version": "3.11.5"
  }
 },
 "nbformat": 4,
 "nbformat_minor": 5
}
