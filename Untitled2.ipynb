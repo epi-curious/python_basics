{
 "cells": [
  {
   "cell_type": "code",
   "execution_count": 5,
   "id": "462299df-1087-4fcb-b6a5-b8b1823b37f9",
   "metadata": {
    "tags": []
   },
   "outputs": [
    {
     "name": "stdin",
     "output_type": "stream",
     "text": [
      "Enter the length of side a:  919\n",
      "Enter the length of side b:  948\n"
     ]
    },
    {
     "name": "stdout",
     "output_type": "stream",
     "text": [
      "The length of the hypotenuse (side c) is: 1743265.0\n"
     ]
    }
   ],
   "source": [
    "# Get input for side lengths a and b\n",
    "a = float(input(\"Enter the length of side a: \"))\n",
    "b = float(input(\"Enter the length of side b: \"))\n",
    "\n",
    "# Calculate the length of the hypotenuse (side c)\n",
    "c = (a**2 + b**2)\n",
    "\n",
    "# Print the result\n",
    "print(\"The length of the hypotenuse (side c) is:\", c)"
   ]
  },
  {
   "cell_type": "code",
   "execution_count": 6,
   "id": "4800e3a7-878a-4a5f-b4b5-4e515d46abe7",
   "metadata": {
    "tags": []
   },
   "outputs": [
    {
     "ename": "NameError",
     "evalue": "name 'HumptyDumptysatonawallHumptyDumptyhadagreatfallAlltheKingshorsesandalltheKingsmenCouldntputHumptyDumptyinhisplaceagain' is not defined",
     "output_type": "error",
     "traceback": [
      "\u001b[0;31m---------------------------------------------------------------------------\u001b[0m",
      "\u001b[0;31mNameError\u001b[0m                                 Traceback (most recent call last)",
      "Cell \u001b[0;32mIn[6], line 1\u001b[0m\n\u001b[0;32m----> 1\u001b[0m message \u001b[38;5;241m=\u001b[39m HumptyDumptysatonawallHumptyDumptyhadagreatfallAlltheKingshorsesandalltheKingsmenCouldntputHumptyDumptyinhisplaceagain\n",
      "\u001b[0;31mNameError\u001b[0m: name 'HumptyDumptysatonawallHumptyDumptyhadagreatfallAlltheKingshorsesandalltheKingsmenCouldntputHumptyDumptyinhisplaceagain' is not defined"
     ]
    }
   ],
   "source": [
    "message = HumptyDumptysatonawallHumptyDumptyhadagreatfallAlltheKingshorsesandalltheKingsmenCouldntputHumptyDumptyinhisplaceagain"
   ]
  },
  {
   "cell_type": "code",
   "execution_count": 7,
   "id": "a5f8c131-1079-4d12-b375-6be963159783",
   "metadata": {
    "tags": []
   },
   "outputs": [],
   "source": [
    "message = \"HumptyDumptysatonawallHumptyDumptyhadagreatfallAlltheKingshorsesandalltheKingsmenCouldntputHumptyDumptyinhisplaceagain.\""
   ]
  },
  {
   "cell_type": "code",
   "execution_count": 8,
   "id": "6f3987a7-acc9-4fec-9295-2b061ebae568",
   "metadata": {
    "tags": []
   },
   "outputs": [
    {
     "name": "stdout",
     "output_type": "stream",
     "text": [
      "Humpty\n"
     ]
    }
   ],
   "source": [
    "first_word = message [0:6]\n",
    "print(first_word)"
   ]
  },
  {
   "cell_type": "code",
   "execution_count": 11,
   "id": "f939d914-d9ac-4bf5-b323-f51d7303c61f",
   "metadata": {
    "tags": []
   },
   "outputs": [
    {
     "name": "stdout",
     "output_type": "stream",
     "text": [
      "Humpty\n",
      "Dumpty\n"
     ]
    }
   ],
   "source": [
    "a_b = message [22:28]\n",
    "c_d = message [97:103]\n",
    "\n",
    "print(a_b)\n",
    "print(c_d)"
   ]
  },
  {
   "cell_type": "code",
   "execution_count": 12,
   "id": "87287869-9b0f-45ef-9d0e-a9d610c5aae8",
   "metadata": {
    "tags": []
   },
   "outputs": [],
   "source": [
    "message = \"8C7pQWpUaXmRkR5lJouHSjHGnyNxdKaloulaFuV95ZFsjiXCpeKvCWkdhpn754B5gBeU73kaINcYc7eBygSaoCpTH5XoUMNoLJh9iKbarroniMMxjv0ztqus8Sq1QRkJvUmETTn05zBdD0sngWPbQg8Sum5DrwqVpqNaAf9XiDVtmebgoFfl61k87PmP405Suy.\""
   ]
  },
  {
   "cell_type": "code",
   "execution_count": 13,
   "id": "ea340d06-3073-4da1-9259-9d40f37ade2e",
   "metadata": {
    "tags": []
   },
   "outputs": [
    {
     "name": "stdout",
     "output_type": "stream",
     "text": [
      "Kaloul\n",
      "barron\n"
     ]
    }
   ],
   "source": [
    "a_b = message[29:35]\n",
    "c_d = message[102:108]\n",
    "\n",
    "print(a_b)\n",
    "print(c_d)"
   ]
  },
  {
   "cell_type": "code",
   "execution_count": 15,
   "id": "81c0e231-916e-4dff-86fc-2df8c11da925",
   "metadata": {
    "tags": []
   },
   "outputs": [],
   "source": [
    "message = \"e83xR40SJEcYyxYSSKC6d4QmPx3m6Om3iAT29tozPhilacteRi80wEpL237OBSZ2xERy0Ku3sGJOGXWINOoPX1FQ5md5kbuiRWyGVhTxmdT4REKk3MhEBKZWSodT24gBIp2lH0WY6mymFxdIy01Q2GV18sgjptuozwYb41wfdaSMHCFarizonensisbPyCX.\"\n"
   ]
  },
  {
   "cell_type": "code",
   "execution_count": 17,
   "id": "550cca0f-f6fc-4071-b7c7-204d01c845dd",
   "metadata": {
    "tags": []
   },
   "outputs": [
    {
     "name": "stdout",
     "output_type": "stream",
     "text": [
      "Philacte\n",
      "arizonensis\n"
     ]
    }
   ],
   "source": [
    "a_b = message[40:48]\n",
    "c_d = message[175:186]\n",
    "\n",
    "print(a_b)\n",
    "print(c_d)"
   ]
  },
  {
   "cell_type": "code",
   "execution_count": 18,
   "id": "6adb4a0e-3f09-496d-87e5-dad2eac36bf3",
   "metadata": {
    "tags": []
   },
   "outputs": [
    {
     "name": "stdin",
     "output_type": "stream",
     "text": [
      "Enter the first number:  4595\n",
      "Enter the second number:  9359\n"
     ]
    },
    {
     "name": "stdout",
     "output_type": "stream",
     "text": [
      "The sum of all odd integers between 4595 and 9359 is: 16626191\n"
     ]
    }
   ],
   "source": [
    "# Get input for the two numbers\n",
    "num1 = int(input(\"Enter the first number: \"))\n",
    "num2 = int(input(\"Enter the second number: \"))\n",
    "\n",
    "# Make sure num1 is smaller than num2, if not swap them\n",
    "if num1 > num2:\n",
    "    num1, num2 = num2, num1\n",
    "\n",
    "# Initialize the sum to store the result\n",
    "odd_sum = 0\n",
    "\n",
    "# Iterate through the range from num1 to num2 (inclusive)\n",
    "for num in range(num1, num2 + 1):\n",
    "    # Check if the number is odd\n",
    "    if num % 2 != 0:\n",
    "        # If it's odd, add it to the sum\n",
    "        odd_sum += num\n",
    "\n",
    "# Print the result\n",
    "print(\"The sum of all odd integers between\", num1, \"and\", num2, \"is:\", odd_sum)"
   ]
  },
  {
   "cell_type": "code",
   "execution_count": null,
   "id": "ed15910c-4045-4d9e-b9de-a61153f8106d",
   "metadata": {},
   "outputs": [],
   "source": []
  }
 ],
 "metadata": {
  "kernelspec": {
   "display_name": "Python 3 (ipykernel)",
   "language": "python",
   "name": "python3"
  },
  "language_info": {
   "codemirror_mode": {
    "name": "ipython",
    "version": 3
   },
   "file_extension": ".py",
   "mimetype": "text/x-python",
   "name": "python",
   "nbconvert_exporter": "python",
   "pygments_lexer": "ipython3",
   "version": "3.11.5"
  }
 },
 "nbformat": 4,
 "nbformat_minor": 5
}
