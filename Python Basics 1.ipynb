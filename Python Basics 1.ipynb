{
 "cells": [
  {
   "cell_type": "code",
   "execution_count": 2,
   "id": "0c4d62cd-2b16-4f16-89c4-5a6b35d8619d",
   "metadata": {
    "tags": []
   },
   "outputs": [
    {
     "ename": "SyntaxError",
     "evalue": "invalid syntax (2236720560.py, line 1)",
     "output_type": "error",
     "traceback": [
      "\u001b[0;36m  Cell \u001b[0;32mIn[2], line 1\u001b[0;36m\u001b[0m\n\u001b[0;31m    type(True)bool:\u001b[0m\n\u001b[0m              ^\u001b[0m\n\u001b[0;31mSyntaxError\u001b[0m\u001b[0;31m:\u001b[0m invalid syntax\n"
     ]
    }
   ],
   "source": [
    "type(True)bool:"
   ]
  },
  {
   "cell_type": "code",
   "execution_count": 3,
   "id": "b139d19d-03e5-458d-a0bd-83d574c3c594",
   "metadata": {
    "tags": []
   },
   "outputs": [
    {
     "data": {
      "text/plain": [
       "1"
      ]
     },
     "execution_count": 3,
     "metadata": {},
     "output_type": "execute_result"
    }
   ],
   "source": [
    "int(True)"
   ]
  },
  {
   "cell_type": "code",
   "execution_count": 4,
   "id": "a42ce244-b379-4bf7-b0f1-82fa1c2ee846",
   "metadata": {
    "tags": []
   },
   "outputs": [
    {
     "data": {
      "text/plain": [
       "True"
      ]
     },
     "execution_count": 4,
     "metadata": {},
     "output_type": "execute_result"
    }
   ],
   "source": [
    " bool(1)"
   ]
  },
  {
   "cell_type": "code",
   "execution_count": 5,
   "id": "5207f157-3d90-4e8f-8b20-00612c1981b9",
   "metadata": {
    "tags": []
   },
   "outputs": [
    {
     "data": {
      "text/plain": [
       "3"
      ]
     },
     "execution_count": 5,
     "metadata": {},
     "output_type": "execute_result"
    }
   ],
   "source": [
    "int(3.99)"
   ]
  },
  {
   "cell_type": "code",
   "execution_count": 6,
   "id": "1e47d86f-c462-4708-aa04-f972241c6e2d",
   "metadata": {
    "tags": []
   },
   "outputs": [
    {
     "data": {
      "text/plain": [
       "int"
      ]
     },
     "execution_count": 6,
     "metadata": {},
     "output_type": "execute_result"
    }
   ],
   "source": [
    "# Print the type of -1\n",
    "\n",
    "type(-1)"
   ]
  },
  {
   "cell_type": "code",
   "execution_count": 7,
   "id": "e19db668-90ff-422d-a227-f06364700913",
   "metadata": {
    "tags": []
   },
   "outputs": [
    {
     "data": {
      "text/plain": [
       "int"
      ]
     },
     "execution_count": 7,
     "metadata": {},
     "output_type": "execute_result"
    }
   ],
   "source": [
    "# Print the type of 0\n",
    "\n",
    "type(0)"
   ]
  },
  {
   "cell_type": "code",
   "execution_count": 8,
   "id": "86032c0a-103e-4b40-bc8b-522425b51b14",
   "metadata": {
    "tags": []
   },
   "outputs": [
    {
     "data": {
      "text/plain": [
       "float"
      ]
     },
     "execution_count": 8,
     "metadata": {},
     "output_type": "execute_result"
    }
   ],
   "source": [
    "# Print the type of 1.0\n",
    "\n",
    "type(1.0) # Notice that 1 is an int, and 1.0 is a float"
   ]
  },
  {
   "cell_type": "code",
   "execution_count": 9,
   "id": "3716a1bf-7f65-4872-a075-1e43212fc4eb",
   "metadata": {
    "tags": []
   },
   "outputs": [
    {
     "data": {
      "text/plain": [
       "'1'"
      ]
     },
     "execution_count": 9,
     "metadata": {},
     "output_type": "execute_result"
    }
   ],
   "source": [
    "str(1)"
   ]
  },
  {
   "cell_type": "code",
   "execution_count": 10,
   "id": "7206fd0b-1700-4d94-9268-81bafdcbcb76",
   "metadata": {
    "tags": []
   },
   "outputs": [
    {
     "data": {
      "text/plain": [
       "5"
      ]
     },
     "execution_count": 10,
     "metadata": {},
     "output_type": "execute_result"
    }
   ],
   "source": [
    "11//2"
   ]
  },
  {
   "cell_type": "code",
   "execution_count": 14,
   "id": "a496a872-e65c-4fbb-a7f8-0bd93637bf75",
   "metadata": {
    "tags": []
   },
   "outputs": [],
   "source": [
    "x=4"
   ]
  },
  {
   "cell_type": "code",
   "execution_count": 15,
   "id": "1046f7dc-7066-4eb4-b4db-3ed990111a27",
   "metadata": {
    "tags": []
   },
   "outputs": [],
   "source": [
    "x=x/2"
   ]
  },
  {
   "cell_type": "code",
   "execution_count": 16,
   "id": "0a28530d-5ed0-4199-892b-702789c173a4",
   "metadata": {
    "tags": []
   },
   "outputs": [],
   "source": [
    "y=2*x*x-3"
   ]
  },
  {
   "cell_type": "code",
   "execution_count": 19,
   "id": "7e695620-bd16-47a3-9c83-894de200c1e5",
   "metadata": {
    "tags": []
   },
   "outputs": [
    {
     "name": "stdout",
     "output_type": "stream",
     "text": [
      "2*x + 1\n"
     ]
    }
   ],
   "source": [
    "from sympy import Symbol\n",
    "\n",
    "a = Symbol('x')\n",
    "print(a + a + 1)\n",
    "# 2*x + 1"
   ]
  },
  {
   "cell_type": "code",
   "execution_count": 25,
   "id": "c1628d76-6b3e-45cb-aba3-17228d9495f1",
   "metadata": {
    "tags": []
   },
   "outputs": [],
   "source": [
    "name = 'Michael Jackson'"
   ]
  },
  {
   "cell_type": "code",
   "execution_count": 26,
   "id": "6f738d84-55de-48c3-8ec9-92ba38c9fba0",
   "metadata": {
    "tags": []
   },
   "outputs": [
    {
     "ename": "SyntaxError",
     "evalue": "illegal target for annotation (3442387830.py, line 1)",
     "output_type": "error",
     "traceback": [
      "\u001b[0;36m  Cell \u001b[0;32mIn[26], line 1\u001b[0;36m\u001b[0m\n\u001b[0;31m    name.find('el'):5\u001b[0m\n\u001b[0m    ^\u001b[0m\n\u001b[0;31mSyntaxError\u001b[0m\u001b[0;31m:\u001b[0m illegal target for annotation\n"
     ]
    }
   ],
   "source": []
  },
  {
   "cell_type": "code",
   "execution_count": null,
   "id": "6700fdd8-aa46-42ff-acda-637ef2d862a3",
   "metadata": {},
   "outputs": [],
   "source": []
  }
 ],
 "metadata": {
  "kernelspec": {
   "display_name": "Python 3 (ipykernel)",
   "language": "python",
   "name": "python3"
  },
  "language_info": {
   "codemirror_mode": {
    "name": "ipython",
    "version": 3
   },
   "file_extension": ".py",
   "mimetype": "text/x-python",
   "name": "python",
   "nbconvert_exporter": "python",
   "pygments_lexer": "ipython3",
   "version": "3.11.5"
  }
 },
 "nbformat": 4,
 "nbformat_minor": 5
}
